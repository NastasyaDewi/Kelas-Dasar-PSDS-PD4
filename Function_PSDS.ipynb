{
  "nbformat": 4,
  "nbformat_minor": 0,
  "metadata": {
    "colab": {
      "provenance": []
    },
    "kernelspec": {
      "name": "python3",
      "display_name": "Python 3"
    },
    "language_info": {
      "name": "python"
    }
  },
  "cells": [
    {
      "cell_type": "markdown",
      "source": [
        "##function"
      ],
      "metadata": {
        "id": "wVZQky0c7NIH"
      }
    },
    {
      "cell_type": "code",
      "execution_count": 1,
      "metadata": {
        "colab": {
          "base_uri": "https://localhost:8080/"
        },
        "id": "Ffhskvjz6_59",
        "outputId": "5dbf8021-c715-4f01-c0bc-cc3d9cf3b744"
      },
      "outputs": [
        {
          "output_type": "stream",
          "name": "stdout",
          "text": [
            "Tasya\n"
          ]
        }
      ],
      "source": [
        "def data_nama(nama):\n",
        "  print(nama)\n",
        "\n",
        "data_nama('Tasya')"
      ]
    },
    {
      "cell_type": "markdown",
      "source": [
        "Argumen Posisi Dan Argumen Kata Kunci"
      ],
      "metadata": {
        "id": "S_CepLBK7hn_"
      }
    },
    {
      "cell_type": "code",
      "source": [
        "def angka(a, b, c):\n",
        "  print(a, b, c)\n",
        "\n",
        "#Argumen posisi\n",
        "#Argumen berdasarkan posisinya\n",
        "angka(1, 2, 3)\n",
        "\n",
        "#argumen berdasarkan kata kuncinya\n",
        "angka(a=1, b=2, c=3)\n",
        "angka(c=3, b=2, a=1)\n",
        "#catatan jika sudah diberi kata kunci maka urutan tidak menjadi penting\n",
        "\n",
        "#campuran antara argumen posisi dan argumen kata kunci\n",
        "angka(1, b=2, c=3)\n",
        "\n",
        "#ini tidak diijinkan:\n",
        "#angka(1, b=2, 3) #argumen posisional setelah argumen kunci\n",
        "#angka(1, b=2, a=3) #terdapat dua nilai untuk argumen kunci 'a'"
      ],
      "metadata": {
        "colab": {
          "base_uri": "https://localhost:8080/"
        },
        "id": "fCEVtsj37fPg",
        "outputId": "2b1a4ae6-1f1c-4baf-8554-480783e5a435"
      },
      "execution_count": 2,
      "outputs": [
        {
          "output_type": "stream",
          "name": "stdout",
          "text": [
            "1 2 3\n",
            "1 2 3\n",
            "1 2 3\n",
            "1 2 3\n"
          ]
        }
      ]
    },
    {
      "cell_type": "markdown",
      "source": [
        "Argumen Default"
      ],
      "metadata": {
        "id": "GNiKpPZ27u7b"
      }
    },
    {
      "cell_type": "code",
      "source": [
        "def angka2(a, b, c, d=4):\n",
        "  print(a, b, c, d)\n",
        "\n",
        "angka2(1, 2, 3, 4)\n",
        "angka2(1, b=2, c=3, d=100)\n",
        "angka2(1,2,3)"
      ],
      "metadata": {
        "colab": {
          "base_uri": "https://localhost:8080/"
        },
        "id": "Pr876fz_7xdO",
        "outputId": "529a2c99-4fde-4555-bbde-03b8e067d5ea"
      },
      "execution_count": 3,
      "outputs": [
        {
          "output_type": "stream",
          "name": "stdout",
          "text": [
            "1 2 3 4\n",
            "1 2 3 100\n",
            "1 2 3 4\n"
          ]
        }
      ]
    },
    {
      "cell_type": "code",
      "source": [
        "x = 1\n",
        "y = 2\n",
        "x+y"
      ],
      "metadata": {
        "colab": {
          "base_uri": "https://localhost:8080/"
        },
        "id": "E7XiqjMq72bP",
        "outputId": "770df161-05aa-4c6a-cd0b-fcba819c6515"
      },
      "execution_count": 4,
      "outputs": [
        {
          "output_type": "execute_result",
          "data": {
            "text/plain": [
              "3"
            ]
          },
          "metadata": {},
          "execution_count": 4
        }
      ]
    },
    {
      "cell_type": "code",
      "source": [
        "def penjumlahan(x,y):   #input\n",
        "  a=x+y                 #proses\n",
        "  return a              #output\n",
        "\n",
        "penjumlahan(1, 2)       #menggunakan fungsi"
      ],
      "metadata": {
        "colab": {
          "base_uri": "https://localhost:8080/"
        },
        "id": "RqVB8RvZ76Q1",
        "outputId": "ef1045ef-3554-45ac-b07c-0208acaa0360"
      },
      "execution_count": 5,
      "outputs": [
        {
          "output_type": "execute_result",
          "data": {
            "text/plain": [
              "3"
            ]
          },
          "metadata": {},
          "execution_count": 5
        }
      ]
    },
    {
      "cell_type": "markdown",
      "source": [
        "Penjumlahan yang memungkinkan untuk tiga bilangan"
      ],
      "metadata": {
        "id": "z9hnQoBX7_L5"
      }
    },
    {
      "cell_type": "code",
      "source": [
        "def penjumlahan(x,y,z=None):\n",
        "  if (z==None):\n",
        "    return x+y\n",
        "  else:\n",
        "    return x+y+z\n",
        "\n",
        "print(penjumlahan(1, 2))\n",
        "print(penjumlahan(1, 2, 3))"
      ],
      "metadata": {
        "colab": {
          "base_uri": "https://localhost:8080/"
        },
        "id": "rQPq4WKf8E7a",
        "outputId": "db300242-10a0-44fe-cc81-d33a0dd92362"
      },
      "execution_count": 6,
      "outputs": [
        {
          "output_type": "stream",
          "name": "stdout",
          "text": [
            "3\n",
            "6\n"
          ]
        }
      ]
    },
    {
      "cell_type": "markdown",
      "source": [
        "Menyimpan hasil fungsi dalam variabel"
      ],
      "metadata": {
        "id": "td9HZIhu8Lca"
      }
    },
    {
      "cell_type": "code",
      "source": [
        "def penjumlahan(x,y):\n",
        "  return x+y\n",
        "\n",
        "a = penjumlahan\n",
        "a(1, 2)\n"
      ],
      "metadata": {
        "colab": {
          "base_uri": "https://localhost:8080/"
        },
        "id": "KbCZIKoz8Ouh",
        "outputId": "904e17b9-9c61-446e-f7c7-8ff72b24d309"
      },
      "execution_count": 8,
      "outputs": [
        {
          "output_type": "execute_result",
          "data": {
            "text/plain": [
              "3"
            ]
          },
          "metadata": {},
          "execution_count": 8
        }
      ]
    },
    {
      "cell_type": "markdown",
      "source": [
        "##Lambda"
      ],
      "metadata": {
        "id": "EYyWrYq58Tyx"
      }
    },
    {
      "cell_type": "code",
      "source": [
        "def square_sum(x,y):  #menggunakan function\n",
        "  return x**2 + y**2"
      ],
      "metadata": {
        "id": "tBX_k9z18YY9"
      },
      "execution_count": 9,
      "outputs": []
    },
    {
      "cell_type": "code",
      "source": [
        "lambda x,y : x**2 + y**2  #lambda"
      ],
      "metadata": {
        "colab": {
          "base_uri": "https://localhost:8080/"
        },
        "id": "OdSOQyik8sAF",
        "outputId": "33ac1b0a-cc96-49b1-82aa-61f329dc7397"
      },
      "execution_count": 10,
      "outputs": [
        {
          "output_type": "execute_result",
          "data": {
            "text/plain": [
              "<function __main__.<lambda>(x, y)>"
            ]
          },
          "metadata": {},
          "execution_count": 10
        }
      ]
    },
    {
      "cell_type": "markdown",
      "source": [
        "Menggunakan Lambda Expression"
      ],
      "metadata": {
        "id": "h1xcSrGB8xNs"
      }
    },
    {
      "cell_type": "code",
      "source": [
        "greeting = lambda name : print(f\"hello, {name}\")"
      ],
      "metadata": {
        "id": "MH7i91Og80Yl"
      },
      "execution_count": 11,
      "outputs": []
    },
    {
      "cell_type": "code",
      "source": [
        "greeting(\"Tasya\")\n",
        "greeting(\"Caca\")"
      ],
      "metadata": {
        "colab": {
          "base_uri": "https://localhost:8080/"
        },
        "id": "qwChnKsw84WA",
        "outputId": "350e18f9-e6ff-4690-a4fc-69d0fe3f10e6"
      },
      "execution_count": 12,
      "outputs": [
        {
          "output_type": "stream",
          "name": "stdout",
          "text": [
            "hello, Tasya\n",
            "hello, Caca\n"
          ]
        }
      ]
    },
    {
      "cell_type": "markdown",
      "source": [
        "Beberapa contoh penggunaan Lambda"
      ],
      "metadata": {
        "id": "lk8Y_Q_D9Y-D"
      }
    },
    {
      "cell_type": "code",
      "source": [
        "#Fungsi Lambda untuk menambahkan angka 10 kepada argument input\n",
        "f = lambda x: x+10\n",
        "val1 = f(5)\n",
        "val2 = f(100)\n",
        "print(val1,val2)"
      ],
      "metadata": {
        "colab": {
          "base_uri": "https://localhost:8080/"
        },
        "id": "yN1g_V919dck",
        "outputId": "ac2170f2-358a-48e6-cc55-256fdec6c483"
      },
      "execution_count": 13,
      "outputs": [
        {
          "output_type": "stream",
          "name": "stdout",
          "text": [
            "15 110\n"
          ]
        }
      ]
    },
    {
      "cell_type": "code",
      "source": [
        "#Fungsi Lambda untuk mengalikan dua argumen input dan menampilkan hasilnya\n",
        "f = lambda x,y: x*y\n",
        "val3 = f(2,10)\n",
        "val4 = f(7,5)\n",
        "print(val3,val4)"
      ],
      "metadata": {
        "colab": {
          "base_uri": "https://localhost:8080/"
        },
        "id": "1CbPmfMs9hr4",
        "outputId": "0c17182d-16b8-4c89-ea87-84f9151bd41a"
      },
      "execution_count": 14,
      "outputs": [
        {
          "output_type": "stream",
          "name": "stdout",
          "text": [
            "20 35\n"
          ]
        }
      ]
    },
    {
      "cell_type": "markdown",
      "source": [
        "Anonymous Function"
      ],
      "metadata": {
        "id": "tX4i9fUO9nwW"
      }
    },
    {
      "cell_type": "code",
      "source": [
        "def say_hello(nama):\n",
        "  print(f\"hello{name}, apa kabar?\")\n",
        "\n",
        "ucapin = say_hello(name) "
      ],
      "metadata": {
        "colab": {
          "base_uri": "https://localhost:8080/",
          "height": 208
        },
        "id": "ive59cJs9tJm",
        "outputId": "e2a8a8ba-3564-41a7-a9c3-5d6a125bd4bf"
      },
      "execution_count": 15,
      "outputs": [
        {
          "output_type": "error",
          "ename": "NameError",
          "evalue": "ignored",
          "traceback": [
            "\u001b[0;31m---------------------------------------------------------------------------\u001b[0m",
            "\u001b[0;31mNameError\u001b[0m                                 Traceback (most recent call last)",
            "\u001b[0;32m<ipython-input-15-ed2d30d92a2f>\u001b[0m in \u001b[0;36m<module>\u001b[0;34m\u001b[0m\n\u001b[1;32m      2\u001b[0m   \u001b[0mprint\u001b[0m\u001b[0;34m(\u001b[0m\u001b[0;34mf\"hello{name}, apa kabar?\"\u001b[0m\u001b[0;34m)\u001b[0m\u001b[0;34m\u001b[0m\u001b[0;34m\u001b[0m\u001b[0m\n\u001b[1;32m      3\u001b[0m \u001b[0;34m\u001b[0m\u001b[0m\n\u001b[0;32m----> 4\u001b[0;31m \u001b[0mucapin\u001b[0m \u001b[0;34m=\u001b[0m \u001b[0msay_hello\u001b[0m\u001b[0;34m(\u001b[0m\u001b[0mname\u001b[0m\u001b[0;34m)\u001b[0m\u001b[0;34m\u001b[0m\u001b[0;34m\u001b[0m\u001b[0m\n\u001b[0m",
            "\u001b[0;31mNameError\u001b[0m: name 'name' is not defined"
          ]
        }
      ]
    },
    {
      "cell_type": "code",
      "source": [
        "greeting "
      ],
      "metadata": {
        "colab": {
          "base_uri": "https://localhost:8080/"
        },
        "id": "qR6M7thB91BO",
        "outputId": "d63639a8-e7fd-4ebd-80cd-698fd651b96a"
      },
      "execution_count": 16,
      "outputs": [
        {
          "output_type": "execute_result",
          "data": {
            "text/plain": [
              "<function __main__.<lambda>(name)>"
            ]
          },
          "metadata": {},
          "execution_count": 16
        }
      ]
    },
    {
      "cell_type": "markdown",
      "source": [
        "Eksekusi Lambda secara langsung"
      ],
      "metadata": {
        "id": "n8W5M_rX97px"
      }
    },
    {
      "cell_type": "code",
      "source": [
        "(lambda x,y: x**2 + y**2)(4,6)"
      ],
      "metadata": {
        "colab": {
          "base_uri": "https://localhost:8080/"
        },
        "id": "wy77f4ka9-4C",
        "outputId": "eaa4e75d-bd92-4f44-db1d-202ae7f92ce2"
      },
      "execution_count": 17,
      "outputs": [
        {
          "output_type": "execute_result",
          "data": {
            "text/plain": [
              "52"
            ]
          },
          "metadata": {},
          "execution_count": 17
        }
      ]
    },
    {
      "cell_type": "markdown",
      "source": [
        "Mengapa kiota menggunakan Lambda"
      ],
      "metadata": {
        "id": "rPZb7Hn6-Eet"
      }
    },
    {
      "cell_type": "code",
      "source": [
        "bilangan = [10,2,8,7,5,4,3,11,0,1]\n",
        "filtered_result = map (lambda x: x*x, bilangan)\n",
        "print(list(filtered_result))"
      ],
      "metadata": {
        "colab": {
          "base_uri": "https://localhost:8080/"
        },
        "id": "GQQUV4Xc-H_S",
        "outputId": "f8fc5d38-a594-4aae-b659-7312b7c3c6ed"
      },
      "execution_count": 18,
      "outputs": [
        {
          "output_type": "stream",
          "name": "stdout",
          "text": [
            "[100, 4, 64, 49, 25, 16, 9, 121, 0, 1]\n"
          ]
        }
      ]
    },
    {
      "cell_type": "code",
      "source": [
        "#Menentukan bilangan genap\n",
        "genap = lambda x: x%2 == 0\n",
        "list(filter(genap, range(11)))"
      ],
      "metadata": {
        "colab": {
          "base_uri": "https://localhost:8080/"
        },
        "id": "FePZaee_-NLp",
        "outputId": "77be186a-f73c-4831-c593-1f45a733f137"
      },
      "execution_count": 19,
      "outputs": [
        {
          "output_type": "execute_result",
          "data": {
            "text/plain": [
              "[0, 2, 4, 6, 8, 10]"
            ]
          },
          "metadata": {},
          "execution_count": 19
        }
      ]
    },
    {
      "cell_type": "code",
      "source": [
        "ganjil = lambda x: x%2 == 1\n",
        "list(filter(ganjil, range(11)))"
      ],
      "metadata": {
        "colab": {
          "base_uri": "https://localhost:8080/"
        },
        "id": "FIenKnE3-Q94",
        "outputId": "caa6e044-53cb-4935-d9dc-f53ff5e74966"
      },
      "execution_count": 20,
      "outputs": [
        {
          "output_type": "execute_result",
          "data": {
            "text/plain": [
              "[1, 3, 5, 7, 9]"
            ]
          },
          "metadata": {},
          "execution_count": 20
        }
      ]
    }
  ]
}